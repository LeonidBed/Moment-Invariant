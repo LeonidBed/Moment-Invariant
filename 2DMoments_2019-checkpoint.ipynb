{
 "cells": [
  {
   "cell_type": "code",
   "execution_count": 2,
   "metadata": {},
   "outputs": [],
   "source": [
    "# import numpy as np\n",
    "import sympy\n",
    "#from sympy import binomial, Symbol, expand, simplify, Sum\n",
    "from sympy.abc import j,k\n",
    "from sympy import *\n",
    "from IPython.display import display, Latex\n",
    "init_printing()\n",
    "x,y=sympy.symbols('x,y')\n",
    "a=IndexedBase('a')\n",
    "eta=IndexedBase('eta')\n",
    "\n",
    "'''#=======================Моменти=================================\n",
    "\n",
    "\n",
    "def Moment(p,q,img):# Моменти\n",
    "    a,b=img.shape\n",
    "    return sum([sum([i**q*j**p*img[i][j] for  i in range(a)]) for j in range(b)])\n",
    "\n",
    "xx=Moment(1,0,thresh)/Moment(0,0,thresh)#центр мас\n",
    "yy=Moment(0,1,thresh)/Moment(0,0,thresh)\n",
    "\n",
    "\n",
    "def Mu(p,q,img):# центральні моменти\n",
    "    a,b=img.shape\n",
    "    return sum([sum([(i-yy)**q*(j-xx)**p*img[i][j] for  i in range(a)]) for j in range(b)])\n",
    "\n",
    "\n",
    "def Nu(p,q,img):# нормалізований момент\n",
    "    return  Mu(p,q,img)/Mu(0,0,img)**(1+(p+q)/2)\n",
    "\n",
    "'''\n",
    "'''\n",
    "                 Kravchuk polynomials and eigenvectors of the derivative D\n",
    "'''\n",
    "\n",
    "\n",
    "def Kpol(n,b,x):#Многочлени Кравчука\n",
    "    return expand(simplify(sum([(-1)**i*binomial(x,i)*binomial(b-x,n-i) for  i in range(n+1)])))\n",
    "def Kpol1(n,a,x):#Многочлени Кравчука\n",
    "    return simplify(Sum((-1)**j*binomial(x,j)*binomial(a-x,n-j), (j,0,n) ).doit())\n",
    "def E(d,l):#власні вектори\n",
    "    return Sum(I**k*floor(Kpol1(k,d,(d-l)/2))*eta[d-k,k], (k,0,d+1)).doit()\n",
    "\n",
    "def Re_Im(z):# exctract of real and imaginary parts\n",
    "    return collect(z.subs(I,y),y).subs(y,I)\n",
    "\n",
    "\n",
    "'''                            2D geometric moments             '''\n",
    "\n",
    "def I0(d):# Invariants of degree 1\n",
    "    return [E(2*i,0) for i in range(1,floor(d/2)+1)]\n",
    "\n",
    "def I11(n):# Invariants of degree 2",
    "    return [expand(E(n,n-2*i)*E(n,-n+2*i)) for i in range(floor((n+1)/2))]\n",
    "\n",
    "def I1(d):# List  \n",
    "        S=[]\n",
    "        for i in range(2,d+1):\n",
    "            S=S+I11(i)\n",
    "        return S\n",
    "def I22(n,p,q):#invariants of degree p+q\n",
    "    Epq=E(p,-q)\n",
    "    return [Re_Im(expand((E(n,n-2*i)**q*Epq**n))) for i in range(floor((n+1)/2)) if [n,n-2*i] !=[p,q]]\n",
    "def I2(d):# List  \n",
    "        S=[]\n",
    "        for i in range(2,d+1):\n",
    "            S=S+I22(i,3,1)\n",
    "        return S\n",
    "def II(d):# Minimal generating set of invariants upp to order d\n",
    "    return I0(d)+I1(d)+I2(d)\n"
   ]
  },
  {
   "cell_type": "code",
   "execution_count": 55,
   "metadata": {},
   "outputs": [
    {
     "data": {
      "image/png": "[encoded data removed]",
      "text/latex": [
       "$$i \\left(4 {\\eta}_{0,3}^{3} {\\eta}_{3,0} - 12 {\\eta}_{0,3}^{2} {\\eta}_{1,2} {\\eta}_{2,1} + 8 {\\eta}_{0,3} {\\eta}_{1,2}^{3} + 12 {\\eta}_{0,3} {\\eta}_{1,2}^{2} {\\eta}_{3,0} - 24 {\\eta}_{0,3} {\\eta}_{1,2} {\\eta}_{2,1}^{2} - 12 {\\eta}_{0,3} {\\eta}_{2,1}^{2} {\\eta}_{3,0} - 4 {\\eta}_{0,3} {\\eta}_{3,0}^{3} + 12 {\\eta}_{1,2}^{3} {\\eta}_{2,1} + 24 {\\eta}_{1,2}^{2} {\\eta}_{2,1} {\\eta}_{3,0} - 12 {\\eta}_{1,2} {\\eta}_{2,1}^{3} + 12 {\\eta}_{1,2} {\\eta}_{2,1} {\\eta}_{3,0}^{2} - 8 {\\eta}_{2,1}^{3} {\\eta}_{3,0}\\right) + {\\eta}_{0,3}^{4} + 6 {\\eta}_{0,3}^{2} {\\eta}_{1,2}^{2} - 6 {\\eta}_{0,3}^{2} {\\eta}_{2,1}^{2} - 6 {\\eta}_{0,3}^{2} {\\eta}_{3,0}^{2} + 24 {\\eta}_{0,3} {\\eta}_{1,2}^{2} {\\eta}_{2,1} + 24 {\\eta}_{0,3} {\\eta}_{1,2} {\\eta}_{2,1} {\\eta}_{3,0} - 8 {\\eta}_{0,3} {\\eta}_{2,1}^{3} - 3 {\\eta}_{1,2}^{4} - 8 {\\eta}_{1,2}^{3} {\\eta}_{3,0} + 18 {\\eta}_{1,2}^{2} {\\eta}_{2,1}^{2} - 6 {\\eta}_{1,2}^{2} {\\eta}_{3,0}^{2} + 24 {\\eta}_{1,2} {\\eta}_{2,1}^{2} {\\eta}_{3,0} - 3 {\\eta}_{2,1}^{4} + 6 {\\eta}_{2,1}^{2} {\\eta}_{3,0}^{2} + {\\eta}_{3,0}^{4}$$"
      ],
      "text/plain": [
       "  ⎛           3                         2                                     \n",
       "ⅈ⋅⎝4⋅eta[0, 3] ⋅eta[3, 0] - 12⋅eta[0, 3] ⋅eta[1, 2]⋅eta[2, 1] + 8⋅eta[0, 3]⋅et\n",
       "\n",
       "       3                         2                                            \n",
       "a[1, 2]  + 12⋅eta[0, 3]⋅eta[1, 2] ⋅eta[3, 0] - 24⋅eta[0, 3]⋅eta[1, 2]⋅eta[2, 1\n",
       "\n",
       " 2                         2                                  3               \n",
       "]  - 12⋅eta[0, 3]⋅eta[2, 1] ⋅eta[3, 0] - 4⋅eta[0, 3]⋅eta[3, 0]  + 12⋅eta[1, 2]\n",
       "\n",
       "3                         2                                             3     \n",
       " ⋅eta[2, 1] + 24⋅eta[1, 2] ⋅eta[2, 1]⋅eta[3, 0] - 12⋅eta[1, 2]⋅eta[2, 1]  + 12\n",
       "\n",
       "                              2              3          ⎞            4        \n",
       "⋅eta[1, 2]⋅eta[2, 1]⋅eta[3, 0]  - 8⋅eta[2, 1] ⋅eta[3, 0]⎠ + eta[0, 3]  + 6⋅eta\n",
       "\n",
       "      2          2              2          2              2          2        \n",
       "[0, 3] ⋅eta[1, 2]  - 6⋅eta[0, 3] ⋅eta[2, 1]  - 6⋅eta[0, 3] ⋅eta[3, 0]  + 24⋅et\n",
       "\n",
       "                 2                                                            \n",
       "a[0, 3]⋅eta[1, 2] ⋅eta[2, 1] + 24⋅eta[0, 3]⋅eta[1, 2]⋅eta[2, 1]⋅eta[3, 0] - 8⋅\n",
       "\n",
       "                   3              4              3                         2  \n",
       "eta[0, 3]⋅eta[2, 1]  - 3⋅eta[1, 2]  - 8⋅eta[1, 2] ⋅eta[3, 0] + 18⋅eta[1, 2] ⋅e\n",
       "\n",
       "        2              2          2                         2                 \n",
       "ta[2, 1]  - 6⋅eta[1, 2] ⋅eta[3, 0]  + 24⋅eta[1, 2]⋅eta[2, 1] ⋅eta[3, 0] - 3⋅et\n",
       "\n",
       "       4              2          2            4\n",
       "a[2, 1]  + 6⋅eta[2, 1] ⋅eta[3, 0]  + eta[3, 0] "
      ]
     },
     "execution_count": 55,
     "metadata": {},
     "output_type": "execute_result"
    }
   ],
   "source": [
    "n=3; p=3;q=1;i=0;Re_Im(expand(((E(n,n-2*i)**q*E(p,-q)**n))))\n"
   ]
  },
  {
   "cell_type": "code",
   "execution_count": 3,
   "metadata": {},
   "outputs": [
    {
     "data": {
      "image/png": "[encoded data removed]",
      "text/latex": [
       "$$\\left [ {\\eta}_{0,2} + {\\eta}_{2,0}, \\quad {\\eta}_{0,2}^{2} - 2 {\\eta}_{0,2} {\\eta}_{2,0} + 4 {\\eta}_{1,1}^{2} + {\\eta}_{2,0}^{2}, \\quad i \\left(2 {\\eta}_{0,2} {\\eta}_{0,3} {\\eta}_{1,2} + 2 {\\eta}_{0,2} {\\eta}_{0,3} {\\eta}_{3,0} + 2 {\\eta}_{0,2} {\\eta}_{1,2} {\\eta}_{2,1} + 2 {\\eta}_{0,2} {\\eta}_{2,1} {\\eta}_{3,0} - 2 {\\eta}_{0,3}^{2} {\\eta}_{1,1} - 4 {\\eta}_{0,3} {\\eta}_{1,1} {\\eta}_{2,1} - 2 {\\eta}_{0,3} {\\eta}_{1,2} {\\eta}_{2,0} - 2 {\\eta}_{0,3} {\\eta}_{2,0} {\\eta}_{3,0} + 2 {\\eta}_{1,1} {\\eta}_{1,2}^{2} + 4 {\\eta}_{1,1} {\\eta}_{1,2} {\\eta}_{3,0} - 2 {\\eta}_{1,1} {\\eta}_{2,1}^{2} + 2 {\\eta}_{1,1} {\\eta}_{3,0}^{2} - 2 {\\eta}_{1,2} {\\eta}_{2,0} {\\eta}_{2,1} - 2 {\\eta}_{2,0} {\\eta}_{2,1} {\\eta}_{3,0}\\right) + {\\eta}_{0,2} {\\eta}_{0,3}^{2} + 2 {\\eta}_{0,2} {\\eta}_{0,3} {\\eta}_{2,1} - {\\eta}_{0,2} {\\eta}_{1,2}^{2} - 2 {\\eta}_{0,2} {\\eta}_{1,2} {\\eta}_{3,0} + {\\eta}_{0,2} {\\eta}_{2,1}^{2} - {\\eta}_{0,2} {\\eta}_{3,0}^{2} - {\\eta}_{0,3}^{2} {\\eta}_{2,0} + 4 {\\eta}_{0,3} {\\eta}_{1,1} {\\eta}_{1,2} + 4 {\\eta}_{0,3} {\\eta}_{1,1} {\\eta}_{3,0} - 2 {\\eta}_{0,3} {\\eta}_{2,0} {\\eta}_{2,1} + 4 {\\eta}_{1,1} {\\eta}_{1,2} {\\eta}_{2,1} + 4 {\\eta}_{1,1} {\\eta}_{2,1} {\\eta}_{3,0} + {\\eta}_{1,2}^{2} {\\eta}_{2,0} + 2 {\\eta}_{1,2} {\\eta}_{2,0} {\\eta}_{3,0} - {\\eta}_{2,0} {\\eta}_{2,1}^{2} + {\\eta}_{2,0} {\\eta}_{3,0}^{2}\\right ]$$"
      ],
      "text/plain": [
       "⎡                                2                                      2     \n",
       "⎣eta[0, 2] + eta[2, 0], eta[0, 2]  - 2⋅eta[0, 2]⋅eta[2, 0] + 4⋅eta[1, 1]  + et\n",
       "\n",
       "       2    ⎛                                                                 \n",
       "a[2, 0] , ⅈ⋅⎝2⋅eta[0, 2]⋅eta[0, 3]⋅eta[1, 2] + 2⋅eta[0, 2]⋅eta[0, 3]⋅eta[3, 0]\n",
       "\n",
       "                                                                              \n",
       " + 2⋅eta[0, 2]⋅eta[1, 2]⋅eta[2, 1] + 2⋅eta[0, 2]⋅eta[2, 1]⋅eta[3, 0] - 2⋅eta[0\n",
       "\n",
       "    2                                                                         \n",
       ", 3] ⋅eta[1, 1] - 4⋅eta[0, 3]⋅eta[1, 1]⋅eta[2, 1] - 2⋅eta[0, 3]⋅eta[1, 2]⋅eta[\n",
       "\n",
       "                                                               2              \n",
       "2, 0] - 2⋅eta[0, 3]⋅eta[2, 0]⋅eta[3, 0] + 2⋅eta[1, 1]⋅eta[1, 2]  + 4⋅eta[1, 1]\n",
       "\n",
       "                                            2                        2        \n",
       "⋅eta[1, 2]⋅eta[3, 0] - 2⋅eta[1, 1]⋅eta[2, 1]  + 2⋅eta[1, 1]⋅eta[3, 0]  - 2⋅eta\n",
       "\n",
       "                                                            ⎞                 \n",
       "[1, 2]⋅eta[2, 0]⋅eta[2, 1] - 2⋅eta[2, 0]⋅eta[2, 1]⋅eta[3, 0]⎠ + eta[0, 2]⋅eta[\n",
       "\n",
       "     2                                                        2               \n",
       "0, 3]  + 2⋅eta[0, 2]⋅eta[0, 3]⋅eta[2, 1] - eta[0, 2]⋅eta[1, 2]  - 2⋅eta[0, 2]⋅\n",
       "\n",
       "                                         2                      2            2\n",
       "eta[1, 2]⋅eta[3, 0] + eta[0, 2]⋅eta[2, 1]  - eta[0, 2]⋅eta[3, 0]  - eta[0, 3] \n",
       "\n",
       "                                                                              \n",
       "⋅eta[2, 0] + 4⋅eta[0, 3]⋅eta[1, 1]⋅eta[1, 2] + 4⋅eta[0, 3]⋅eta[1, 1]⋅eta[3, 0]\n",
       "\n",
       "                                                                              \n",
       " - 2⋅eta[0, 3]⋅eta[2, 0]⋅eta[2, 1] + 4⋅eta[1, 1]⋅eta[1, 2]⋅eta[2, 1] + 4⋅eta[1\n",
       "\n",
       "                                    2                                         \n",
       ", 1]⋅eta[2, 1]⋅eta[3, 0] + eta[1, 2] ⋅eta[2, 0] + 2⋅eta[1, 2]⋅eta[2, 0]⋅eta[3,\n",
       "\n",
       "                         2                      2⎤\n",
       " 0] - eta[2, 0]⋅eta[2, 1]  + eta[2, 0]⋅eta[3, 0] ⎦"
      ]
     },
     "execution_count": 3,
     "metadata": {},
     "output_type": "execute_result"
    }
   ],
   "source": [
    "II(2)"
   ]
  },
  {
   "cell_type": "code",
   "execution_count": null,
   "metadata": {},
   "outputs": [],
   "source": []
  }
 ],
 "metadata": {
  "kernelspec": {
   "display_name": "Python 3",
   "language": "python",
   "name": "python3"
  },
  "language_info": {
   "codemirror_mode": {
    "name": "ipython",
    "version": 3
   },
   "file_extension": ".py",
   "mimetype": "text/x-python",
   "name": "python",
   "nbconvert_exporter": "python",
   "pygments_lexer": "ipython3",
   "version": "3.6.5"
  }
 },
 "nbformat": 4,
 "nbformat_minor": 2
}
