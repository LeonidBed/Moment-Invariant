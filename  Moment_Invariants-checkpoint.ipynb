{
 "cells": [
  {
   "cell_type": "code",
   "execution_count": 378,
   "metadata": {},
   "outputs": [],
   "source": [
    "# import numpy as np\n",
    "import sympy\n",
    "#from sympy import binomial, Symbol, expand, simplify, Sum\n",
    "from sympy.abc import j,k\n",
    "from sympy import *\n",
    "from IPython.display import display, Latex\n",
    "init_printing()\n",
    "x=sympy.symbols('x')\n",
    "a=IndexedBase('a')\n",
    "\n",
    "'''#=======================Моменти=================================\n",
    "\n",
    "\n",
    "def Moment(p,q,img):# Моменти\n",
    "    a,b=img.shape\n",
    "    return sum([sum([i**q*j**p*img[i][j] for  i in range(a)]) for j in range(b)])\n",
    "\n",
    "xx=Moment(1,0,thresh)/Moment(0,0,thresh)#центр мас\n",
    "yy=Moment(0,1,thresh)/Moment(0,0,thresh)\n",
    "\n",
    "\n",
    "def Mu(p,q,img):# центральні моменти\n",
    "    a,b=img.shape\n",
    "    return sum([sum([(i-yy)**q*(j-xx)**p*img[i][j] for  i in range(a)]) for j in range(b)])\n",
    "\n",
    "\n",
    "def Nu(p,q,img):# нормалізований момент\n",
    "    return  Mu(p,q,img)/Mu(0,0,img)**(1+(p+q)/2)\n",
    "\n",
    "'''\n",
    "'''\n",
    "                 Многочлени Кравчука і власні вектори\n",
    "'''\n",
    "x=sympy.symbols('x')\n",
    "a=IndexedBase('a')\n",
    "\n",
    "def Kpol(n,b,x):#Многочлени Кравчука\n",
    "    return expand(simplify(sum([(-1)**i*binomial(x,i)*binomial(b-x,n-i) for  i in range(n+1)])))\n",
    "def Kpol1(n,a,x):#Многочлени Кравчука\n",
    "    return simplify(Sum((-1)**j*binomial(x,j)*binomial(a-x,n-j), (j,0,n) ).doit())\n",
    "def E(d,l):#власні вектори\n",
    "    return Sum(I**k*floor(Kpol1(k,d,(d-l)/2))*a[d-k,k], (k,0,d+1)).doit()\n",
    "\n",
    "\n",
    "'''                            Інварінти             '''\n",
    "\n",
    "def I0(d):#Інтваріанти першого типу\n",
    "    return [E(2*i,0) for i in range(1,floor(d/2)+1)]\n",
    "\n",
    "def I11(n):# Інварінти другого типу  -- добуток спряжених в V_d\n",
    "    return [E(n,n-2*i)*E(n,-n+2*i) for i in range(floor((n+1)/2))]\n",
    "\n",
    "def I1(d):# Сумарних список всіх інваріантів цього типу  \n",
    "        S=[]\n",
    "        for i in range(2,d+1):\n",
    "            S=S+I11(i)\n",
    "        return S\n",
    "def I22(n,p,q):#Інварінти третього типу з фіксованим p,q\n",
    "    Epq=E(p,-q)\n",
    "    return [(E(n,n-2*i)**q*Epq**n) for i in range(floor((n+1)/2)) if [n,n-2*i] !=[p,q]]\n",
    "def I2(d):# Сумарних список всіх інваріантів цього типу  \n",
    "        S=[]\n",
    "        for i in range(2,d+1):\n",
    "            S=S+I22(i,3,1)\n",
    "        return S\n",
    "def II(d):#мінімальна породжуюча система\n",
    "    return I0(d)+I1(d)+I2(d)"
   ]
  },
  {
   "cell_type": "code",
   "execution_count": 158,
   "metadata": {},
   "outputs": [],
   "source": [
    "def I0(d):\n",
    "    return [E(2*i,0) for i in range(floor(d/2)+1)]"
   ]
  },
  {
   "cell_type": "code",
   "execution_count": 298,
   "metadata": {},
   "outputs": [],
   "source": [
    "def I11(n):\n",
    "    return [(E(n,n-2*i)*E(n,-n+2*i)) for i in range(floor((n+1)/2))]"
   ]
  },
  {
   "cell_type": "code",
   "execution_count": 327,
   "metadata": {},
   "outputs": [],
   "source": [
    "def I12(n):\n",
    "    return Sum(E(n,n-2*k)*E(n,-n+2*k), (k,0,floor((n+1)/2)))"
   ]
  },
  {
   "cell_type": "code",
   "execution_count": 324,
   "metadata": {},
   "outputs": [],
   "source": [
    "def I1(d):\n",
    "        S=[]\n",
    "        for i in range(2,d+1):\n",
    "            S=S+I11(i)\n",
    "        return S"
   ]
  },
  {
   "cell_type": "code",
   "execution_count": 370,
   "metadata": {},
   "outputs": [],
   "source": [
    "def I22(n,p,q):\n",
    "    Epq=E(p,-q)\n",
    "    return [(E(n,n-2*i)**q*Epq**n) for i in range(floor((n+1)/2)) if [n,n-2*i] !=[p,q]]"
   ]
  },
  {
   "cell_type": "code",
   "execution_count": 335,
   "metadata": {},
   "outputs": [
    {
     "data": {
      "image/png": "[encoded data removed]",
      "text/latex": [
       "$$\\left(- i {a}_{0,3} - 3 {a}_{1,2} + 3 i {a}_{2,1} + {a}_{3,0}\\right) \\left(- i {a}_{0,3} + {a}_{1,2} - i {a}_{2,1} + {a}_{3,0}\\right)^{3}$$"
      ],
      "text/plain": [
       "                                                                              \n",
       "(-ⅈ⋅a[0, 3] - 3⋅a[1, 2] + 3⋅ⅈ⋅a[2, 1] + a[3, 0])⋅(-ⅈ⋅a[0, 3] + a[1, 2] - ⅈ⋅a[2\n",
       "\n",
       "               3\n",
       ", 1] + a[3, 0]) "
      ]
     },
     "execution_count": 335,
     "metadata": {},
     "output_type": "execute_result"
    }
   ],
   "source": [
    "n=3; p=3;q=1;i=0;((E(n,n-2*i)**q*E(p,-q)**n))"
   ]
  },
  {
   "cell_type": "code",
   "execution_count": 389,
   "metadata": {},
   "outputs": [
    {
     "data": {
      "image/png": "[encoded data removed]",
      "text/latex": [
       "$$17$$"
      ],
      "text/plain": [
       "17"
      ]
     },
     "execution_count": 389,
     "metadata": {},
     "output_type": "execute_result"
    }
   ],
   "source": [
    "len(I0(5)+I1(5)+I2(5))"
   ]
  },
  {
   "cell_type": "code",
   "execution_count": 388,
   "metadata": {},
   "outputs": [
    {
     "data": {
      "image/png": "[encoded data removed]",
      "text/latex": [
       "$$17$$"
      ],
      "text/plain": [
       "17"
      ]
     },
     "execution_count": 388,
     "metadata": {},
     "output_type": "execute_result"
    }
   ],
   "source": [
    "len(II(7))"
   ]
  },
  {
   "cell_type": "code",
   "execution_count": 362,
   "metadata": {},
   "outputs": [
    {
     "data": {
      "image/png": "[encoded data removed]",
      "text/latex": [
       "$$\\left [ {a}_{8,1}, \\quad {a}_{4,3}, \\quad {a}_{2,4}\\right ]$$"
      ],
      "text/plain": [
       "[a[8, 1], a[4, 3], a[2, 4]]"
      ]
     },
     "execution_count": 362,
     "metadata": {},
     "output_type": "execute_result"
    }
   ],
   "source": [
    " d=10;[a[d-2*i,i] for i in range(floor((d+1)/2)) if  d-2*i !=10]"
   ]
  },
  {
   "cell_type": "code",
   "execution_count": 278,
   "metadata": {},
   "outputs": [
    {
     "data": {
      "image/png": "[encoded data removed]",
      "text/latex": [
       "$$3$$"
      ],
      "text/plain": [
       "3"
      ]
     },
     "execution_count": 278,
     "metadata": {},
     "output_type": "execute_result"
    }
   ],
   "source": [
    "d"
   ]
  },
  {
   "cell_type": "code",
   "execution_count": null,
   "metadata": {},
   "outputs": [],
   "source": []
  }
 ],
 "metadata": {
  "kernelspec": {
   "display_name": "Python 3",
   "language": "python",
   "name": "python3"
  },
  "language_info": {
   "codemirror_mode": {
    "name": "ipython",
    "version": 3
   },
   "file_extension": ".py",
   "mimetype": "text/x-python",
   "name": "python",
   "nbconvert_exporter": "python",
   "pygments_lexer": "ipython3",
   "version": "3.6.5"
  }
 },
 "nbformat": 4,
 "nbformat_minor": 2
}
